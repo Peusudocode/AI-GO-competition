{
 "cells": [
  {
   "cell_type": "markdown",
   "metadata": {},
   "source": [
    "# AI GO competition\n",
    "## 2023/9/22"
   ]
  },
  {
   "cell_type": "markdown",
   "metadata": {},
   "source": [
    "## PART 1. Data process"
   ]
  },
  {
   "cell_type": "markdown",
   "metadata": {},
   "source": [
    "### Prepare the environment and import all library we need"
   ]
  },
  {
   "cell_type": "code",
   "execution_count": 35,
   "metadata": {},
   "outputs": [],
   "source": [
    "import pandas as pd\n",
    "import matplotlib.pyplot as plt\n",
    "import seaborn as sns\n",
    "import numpy as np\n",
    "import requests\n",
    "import opencc\n",
    "from scipy import stats\n",
    "import os\n",
    "from matplotlib.font_manager import FontManager\n",
    "from pyplotz.pyplotz import PyplotZ\n",
    "from sklearn.preprocessing import LabelEncoder\n",
    "opencc = opencc.OpenCC('t2s')\n",
    "sns.set_theme(color_codes=True)\n",
    "font_manager = FontManager()\n",
    "font = font_manager.findfont('DejaVu Sans')"
   ]
  },
  {
   "cell_type": "markdown",
   "metadata": {},
   "source": [
    "### function area\n"
   ]
  },
  {
   "cell_type": "code",
   "execution_count": 36,
   "metadata": {},
   "outputs": [],
   "source": [
    "def count_unique_values_for_object_columns(df):\n",
    "  \"\"\"Counts the number of unique values in all object columns in a Pandas DataFrame.\n",
    "  Args:\n",
    "    df: A Pandas DataFrame.\n",
    "  Returns:\n",
    "    A dictionary mapping column names to the number of unique values in each column.\n",
    "  \"\"\"\n",
    "  unique_values_counts = {}\n",
    "  for column in df.select_dtypes(include=['object']):\n",
    "    unique_values_counts[column] = df[column].nunique()\n",
    "  return unique_values_counts\n",
    "\n",
    "def convert_traditional_chinese_df_to_simplified_chinese_df(df):\n",
    "  \"\"\"Converts a traditional Chinese Pandas DataFrame to a simplified Chinese Pandas DataFrame in object dtype.\n",
    "  Args:\n",
    "    df: A Pandas DataFrame containing traditional Chinese text.\n",
    "  Returns:\n",
    "    A Pandas DataFrame containing simplified Chinese text and object dtype.\n",
    "  \"\"\"\n",
    "  # Create a new Pandas DataFrame to store the simplified Chinese data.\n",
    "  df_simplified = pd.DataFrame()\n",
    "  # Iterate over the rows of the original DataFrame and convert the traditional Chinese text to simplified Chinese text using the `opencc` library.\n",
    "  for index, row in df.iterrows():\n",
    "    for column_name in df.columns:\n",
    "      if pd.api.types.is_object_dtype(row[column_name]):\n",
    "        simplified_text = opencc.convert(row[column_name])\n",
    "        df_simplified.loc[index, column_name] = simplified_text\n",
    "      else:\n",
    "        df_simplified.loc[index, column_name] = row[column_name]\n",
    "  # Change the dtype of all columns in the simplified Chinese DataFrame to object.\n",
    "  df_simplified = df_simplified.astype('object')\n",
    "  # Return the simplified Chinese DataFrame.\n",
    "  return df_simplified\n",
    "\n",
    "\n",
    "def plot_bar_chart_for_specific_column(df, column_name):\n",
    "  pltz = PyplotZ()\n",
    "  pltz.enable_chinese()\n",
    "  value_counts = df[column_name].value_counts()\n",
    "  value_counts.plot(kind='bar', color='skyblue')\n",
    "  pltz.title(f'Count of Values in Column: {column_name}', fontsize=15)\n",
    "  pltz.xlabel('Values', fontsize=12)\n",
    "  pltz.ylabel('Count', fontsize=12)\n",
    "  pltz.xticks(fontproperties=font)\n",
    "  pltz.yticks(fontproperties=font)\n",
    "  pltz.show()\n"
   ]
  },
  {
   "cell_type": "markdown",
   "metadata": {},
   "source": [
    "### data loading"
   ]
  },
  {
   "cell_type": "code",
   "execution_count": 37,
   "metadata": {},
   "outputs": [],
   "source": [
    "# Read the CSV file into a Pandas DataFrame\n",
    "public_dataset_df = pd.read_csv('data/public_dataset.csv',encoding='utf-8-sig')\n",
    "private_dataset_df = pd.read_csv('data/private_dataset.csv',encoding='utf-8-sig')\n",
    "public_submission_template_df = pd.read_csv('data/submission/public_submission_template.csv',encoding='utf-8-sig')\n",
    "training_data_df = pd.read_csv('data/training_data.csv',encoding='utf-8-sig')\n",
    "postcode_data_df = pd.read_csv('data/external_data/postcode.csv',encoding='utf-8-sig')"
   ]
  },
  {
   "cell_type": "markdown",
   "metadata": {},
   "source": [
    "### observing data"
   ]
  },
  {
   "cell_type": "code",
   "execution_count": 38,
   "metadata": {},
   "outputs": [
    {
     "name": "stdout",
     "output_type": "stream",
     "text": [
      "training_data_df_df:\n",
      "================================\n",
      "{'ID': 11751, '縣市': 18, '鄉鎮市區': 123, '路名': 3059, '使用分區': 5, '主要用途': 12, '主要建材': 6, '建物型態': 4, '備註': 87}\n",
      "ID            0\n",
      "縣市            0\n",
      "鄉鎮市區          0\n",
      "路名            0\n",
      "土地面積          0\n",
      "使用分區      11156\n",
      "移轉層次          0\n",
      "總樓層數          0\n",
      "主要用途          0\n",
      "主要建材          0\n",
      "建物型態          0\n",
      "屋齡            0\n",
      "建物面積          0\n",
      "車位面積          0\n",
      "車位個數          0\n",
      "橫坐標           0\n",
      "縱坐標           0\n",
      "備註        11659\n",
      "主建物面積         0\n",
      "陽台面積          0\n",
      "附屬建物面積        0\n",
      "單價            0\n",
      "dtype: int64\n",
      "================================\n"
     ]
    }
   ],
   "source": [
    "# training_data_df\n",
    "print(\"training_data_df_df:\")\n",
    "#print(training_data_df.info())\n",
    "print(\"================================\")\n",
    "print(count_unique_values_for_object_columns(training_data_df))\n",
    "#print(\"================================\")\n",
    "#print(training_data_df.head(3)) \n",
    "#print(\"================================\")\n",
    "print(training_data_df.isnull().sum())\n",
    "print(\"================================\")\n",
    "#plot_bar_chart_for_specific_column(training_data_df, '縣市')\n",
    "#print(\"================================\")\n",
    "#simplified_chinese_training_data_df = convert_traditional_chinese_df_to_simplified_chinese_df(training_data_df)\n",
    "#print(simplified_chinese_training_data_df.head(5))"
   ]
  },
  {
   "cell_type": "code",
   "execution_count": 39,
   "metadata": {},
   "outputs": [
    {
     "name": "stdout",
     "output_type": "stream",
     "text": [
      "public_dataset_df:\n",
      "<class 'pandas.core.frame.DataFrame'>\n",
      "RangeIndex: 5876 entries, 0 to 5875\n",
      "Data columns (total 21 columns):\n",
      " #   Column  Non-Null Count  Dtype  \n",
      "---  ------  --------------  -----  \n",
      " 0   ID      5876 non-null   object \n",
      " 1   縣市      5876 non-null   object \n",
      " 2   鄉鎮市區    5876 non-null   object \n",
      " 3   路名      5876 non-null   object \n",
      " 4   土地面積    5876 non-null   float64\n",
      " 5   使用分區    290 non-null    object \n",
      " 6   移轉層次    5876 non-null   int64  \n",
      " 7   總樓層數    5876 non-null   int64  \n",
      " 8   主要用途    5876 non-null   object \n",
      " 9   主要建材    5876 non-null   object \n",
      " 10  建物型態    5876 non-null   object \n",
      " 11  屋齡      5876 non-null   float64\n",
      " 12  建物面積    5876 non-null   float64\n",
      " 13  車位面積    5876 non-null   float64\n",
      " 14  車位個數    5876 non-null   float64\n",
      " 15  橫坐標     5876 non-null   int64  \n",
      " 16  縱坐標     5876 non-null   int64  \n",
      " 17  備註      48 non-null     object \n",
      " 18  主建物面積   5876 non-null   float64\n",
      " 19  陽台面積    5876 non-null   float64\n",
      " 20  附屬建物面積  5876 non-null   float64\n",
      "dtypes: float64(8), int64(4), object(9)\n",
      "memory usage: 964.2+ KB\n",
      "None\n",
      "================================\n",
      "{'ID': 5876, '縣市': 17, '鄉鎮市區': 117, '路名': 2266, '使用分區': 5, '主要用途': 11, '主要建材': 6, '建物型態': 4, '備註': 48}\n",
      "================================\n",
      "     ID   縣市 鄉鎮市區     路名      土地面積 使用分區  移轉層次  總樓層數  主要用途    主要建材  ...  \\\n",
      "0  PU-1  新北市  樹林區    大有路  2.039378  NaN     3     7   住家用  鋼筋混凝土造  ...   \n",
      "1  PU-2  新北市  三重區  力行路一段 -0.077786  NaN     5     5   住家用  鋼筋混凝土造  ...   \n",
      "2  PU-3  新北市  板橋區  民生路三段 -0.555766  NaN     2    20  集合住宅  鋼筋混凝土造  ...   \n",
      "\n",
      "          屋齡      建物面積      車位面積  車位個數     橫坐標      縱坐標   備註     主建物面積  \\\n",
      "0  13.916667  0.472202  0.146176   1.0  288745  2760266  NaN  0.849664   \n",
      "1  40.833333 -0.546455 -0.819326   0.0  298751  2773492  NaN -0.004102   \n",
      "2   1.333333  0.124032 -0.167419   1.0  297000  2769106  NaN -0.285862   \n",
      "\n",
      "       陽台面積    附屬建物面積  \n",
      "0  0.146161 -0.438452  \n",
      "1  0.064257 -0.438452  \n",
      "2 -0.775260  1.323042  \n",
      "\n",
      "[3 rows x 21 columns]\n",
      "================================\n",
      "ID           0\n",
      "縣市           0\n",
      "鄉鎮市區         0\n",
      "路名           0\n",
      "土地面積         0\n",
      "使用分區      5586\n",
      "移轉層次         0\n",
      "總樓層數         0\n",
      "主要用途         0\n",
      "主要建材         0\n",
      "建物型態         0\n",
      "屋齡           0\n",
      "建物面積         0\n",
      "車位面積         0\n",
      "車位個數         0\n",
      "橫坐標          0\n",
      "縱坐標          0\n",
      "備註        5828\n",
      "主建物面積        0\n",
      "陽台面積         0\n",
      "附屬建物面積       0\n",
      "dtype: int64\n",
      "================================\n"
     ]
    },
    {
     "name": "stderr",
     "output_type": "stream",
     "text": [
      "c:\\Users\\Pesudocode\\anaconda3\\envs\\AI-GO\\lib\\site-packages\\IPython\\core\\pylabtools.py:152: UserWarning: Glyph 22290 (\\N{CJK UNIFIED IDEOGRAPH-5712}) missing from current font.\n",
      "  fig.canvas.print_figure(bytes_io, **kw)\n",
      "c:\\Users\\Pesudocode\\anaconda3\\envs\\AI-GO\\lib\\site-packages\\IPython\\core\\pylabtools.py:152: UserWarning: Glyph 32291 (\\N{CJK UNIFIED IDEOGRAPH-7E23}) missing from current font.\n",
      "  fig.canvas.print_figure(bytes_io, **kw)\n",
      "c:\\Users\\Pesudocode\\anaconda3\\envs\\AI-GO\\lib\\site-packages\\IPython\\core\\pylabtools.py:152: UserWarning: Glyph 34349 (\\N{CJK UNIFIED IDEOGRAPH-862D}) missing from current font.\n",
      "  fig.canvas.print_figure(bytes_io, **kw)\n",
      "c:\\Users\\Pesudocode\\anaconda3\\envs\\AI-GO\\lib\\site-packages\\IPython\\core\\pylabtools.py:152: UserWarning: Glyph 38272 (\\N{CJK UNIFIED IDEOGRAPH-9580}) missing from current font.\n",
      "  fig.canvas.print_figure(bytes_io, **kw)\n",
      "c:\\Users\\Pesudocode\\anaconda3\\envs\\AI-GO\\lib\\site-packages\\IPython\\core\\pylabtools.py:152: UserWarning: Glyph 32681 (\\N{CJK UNIFIED IDEOGRAPH-7FA9}) missing from current font.\n",
      "  fig.canvas.print_figure(bytes_io, **kw)\n",
      "c:\\Users\\Pesudocode\\anaconda3\\envs\\AI-GO\\lib\\site-packages\\IPython\\core\\pylabtools.py:152: UserWarning: Glyph 26481 (\\N{CJK UNIFIED IDEOGRAPH-6771}) missing from current font.\n",
      "  fig.canvas.print_figure(bytes_io, **kw)\n",
      "c:\\Users\\Pesudocode\\anaconda3\\envs\\AI-GO\\lib\\site-packages\\IPython\\core\\pylabtools.py:152: UserWarning: Glyph 34030 (\\N{CJK UNIFIED IDEOGRAPH-84EE}) missing from current font.\n",
      "  fig.canvas.print_figure(bytes_io, **kw)\n",
      "c:\\Users\\Pesudocode\\anaconda3\\envs\\AI-GO\\lib\\site-packages\\IPython\\core\\pylabtools.py:152: UserWarning: Glyph 38642 (\\N{CJK UNIFIED IDEOGRAPH-96F2}) missing from current font.\n",
      "  fig.canvas.print_figure(bytes_io, **kw)\n"
     ]
    },
    {
     "data": {
      "image/png": "[encoded data removed]",
      "text/plain": [
       "<Figure size 640x480 with 1 Axes>"
      ]
     },
     "metadata": {},
     "output_type": "display_data"
    }
   ],
   "source": [
    "# public_dataset_df\n",
    "print(\"public_dataset_df:\")\n",
    "print(public_dataset_df.info()) \n",
    "print(\"================================\")\n",
    "print(count_unique_values_for_object_columns(public_dataset_df))\n",
    "print(\"================================\")\n",
    "print(public_dataset_df.head(3)) \n",
    "print(\"================================\")\n",
    "print(public_dataset_df.isnull().sum())\n",
    "print(\"================================\")\n",
    "plot_bar_chart_for_specific_column(public_dataset_df, '縣市')"
   ]
  },
  {
   "cell_type": "code",
   "execution_count": 40,
   "metadata": {},
   "outputs": [
    {
     "name": "stdout",
     "output_type": "stream",
     "text": [
      "<class 'pandas.core.frame.DataFrame'>\n",
      "RangeIndex: 5876 entries, 0 to 5875\n",
      "Data columns (total 2 columns):\n",
      " #   Column           Non-Null Count  Dtype  \n",
      "---  ------           --------------  -----  \n",
      " 0   ID               5876 non-null   object \n",
      " 1   predicted_price  5876 non-null   float64\n",
      "dtypes: float64(1), object(1)\n",
      "memory usage: 91.9+ KB\n",
      "None\n",
      "================================\n",
      "     ID  predicted_price\n",
      "0  PU-1              0.0\n",
      "1  PU-2              0.0\n",
      "2  PU-3              0.0\n"
     ]
    }
   ],
   "source": [
    "# public_submission_template_df\n",
    "print(public_submission_template_df.info()) \n",
    "print(\"================================\")\n",
    "print(public_submission_template_df.head(3)) "
   ]
  },
  {
   "cell_type": "markdown",
   "metadata": {},
   "source": [
    "### data process"
   ]
  },
  {
   "cell_type": "code",
   "execution_count": 41,
   "metadata": {},
   "outputs": [],
   "source": [
    "# function area\n",
    "def add_postcode_data(data_df, postcode_df):\n",
    "    for i in range(len(data_df)):\n",
    "        city = data_df.loc[i, \"縣市\"]\n",
    "        district = data_df.loc[i, \"鄉鎮市區\"]\n",
    "        matching_postcode_df = postcode_df[(postcode_df[\"縣市\"] == city) & (postcode_df[\"鄉鎮市區\"] == district)]\n",
    "        postcode = int(matching_postcode_df[\"郵遞區號\"])\n",
    "        data_df.loc[i, \"郵遞區號\"] = postcode\n",
    "    return data_df"
   ]
  },
  {
   "cell_type": "code",
   "execution_count": 42,
   "metadata": {},
   "outputs": [
    {
     "name": "stdout",
     "output_type": "stream",
     "text": [
      "{'ID': 11751, '縣市': 18, '鄉鎮市區': 123, '路名': 3059, '使用分區': 5, '主要用途': 12, '主要建材': 6, '建物型態': 4, '備註': 87}\n"
     ]
    },
    {
     "name": "stderr",
     "output_type": "stream",
     "text": [
      "C:\\Users\\Pesudocode\\AppData\\Local\\Temp\\ipykernel_23264\\3932344480.py:7: FutureWarning: Calling int on a single element Series is deprecated and will raise a TypeError in the future. Use int(ser.iloc[0]) instead\n",
      "  postcode = int(matching_postcode_df[\"郵遞區號\"])\n"
     ]
    },
    {
     "name": "stdout",
     "output_type": "stream",
     "text": [
      "     ID   縣市 鄉鎮市區      路名 郵遞區號      土地面積 使用分區  移轉層次  總樓層數  主要用途  ...  \\\n",
      "0  TR-1  台北市  大安區  敦化南路二段  106 -0.256716  NaN    11    11   住家用  ...   \n",
      "1  TR-2  台北市  萬華區     水源路  108  0.100134  NaN     7    12   住家用  ...   \n",
      "2  TR-3  高雄市  鳳山區     北忠街  830  0.181921  NaN    10    15  集合住宅  ...   \n",
      "3  TR-4  新北市  新莊區     福前街  242  0.085594  NaN     9    14  集合住宅  ...   \n",
      "4  TR-5  新北市  板橋區   文化路一段  220 -0.938116  NaN    41    43   住家用  ...   \n",
      "\n",
      "       建物面積      車位面積  車位個數     橫坐標      縱坐標   備註     主建物面積      陽台面積  \\\n",
      "0 -0.174154 -0.819326   0.0  305266  2768378  NaN  0.393926  0.183700   \n",
      "1  0.314204 -0.819326   0.0  300677  2767990  NaN -0.316131  0.608577   \n",
      "2  0.423366  0.161624   1.0  184815  2504666  NaN -0.098871 -0.360620   \n",
      "3  0.164249  0.524653   1.0  296653  2772355  NaN -0.071147  0.315088   \n",
      "4  0.985839  0.532377   1.0  297377  2768472  NaN  0.791954  1.719400   \n",
      "\n",
      "     附屬建物面積        單價  \n",
      "0 -0.438452  4.627714  \n",
      "1 -0.438452  1.887258  \n",
      "2  1.525881  1.489072  \n",
      "3  0.231984  2.051217  \n",
      "4 -0.438452  3.269198  \n",
      "\n",
      "[5 rows x 23 columns]\n",
      "               土地面積          使用分區          移轉層次          總樓層數          主要用途  \\\n",
      "count  11751.000000  11751.000000  11751.000000  11751.000000  11751.000000   \n",
      "mean       0.018416      4.789720      7.433665     12.602672      4.197515   \n",
      "std        1.072279      0.943754      5.089029      6.840007      3.744824   \n",
      "min       -1.619755      0.000000      2.000000      2.000000      0.000000   \n",
      "25%       -0.646264      5.000000      4.000000      7.000000      2.000000   \n",
      "50%       -0.149839      5.000000      6.000000     12.000000      2.000000   \n",
      "75%        0.410167      5.000000     10.000000     15.000000      5.000000   \n",
      "max       19.475175      5.000000     46.000000     68.000000     11.000000   \n",
      "\n",
      "               主要建材          建物型態            屋齡          建物面積          車位面積  \\\n",
      "count  11751.000000  11751.000000  11751.000000  11751.000000  11751.000000   \n",
      "mean       3.921028      0.576717     21.319058      0.030517      0.021030   \n",
      "std        0.648449      0.784563     14.425560      1.083602      1.030720   \n",
      "min        0.000000      0.000000      0.000000     -1.909259     -0.819326   \n",
      "25%        4.000000      0.000000      8.083333     -0.619995     -0.819326   \n",
      "50%        4.000000      0.000000     21.750000     -0.191390     -0.334257   \n",
      "75%        4.000000      1.000000     31.250000      0.339483      0.677589   \n",
      "max        5.000000      3.000000     60.083333     13.026437     14.007695   \n",
      "\n",
      "               車位個數            橫坐標           縱坐標         主建物面積          陽台面積  \\\n",
      "count  11751.000000   11751.000000  1.175100e+04  11751.000000  11751.000000   \n",
      "mean       0.638669  268260.431878  2.719114e+06      0.026623      0.024876   \n",
      "std        0.678157   50065.477460  9.271248e+04      1.077374      1.072452   \n",
      "min        0.000000  -23391.000000  2.493809e+06     -2.070340     -1.642077   \n",
      "25%        0.000000  237588.500000  2.708082e+06     -0.612460     -0.623396   \n",
      "50%        1.000000  294675.000000  2.766329e+06     -0.148660     -0.077369   \n",
      "75%        1.000000  302130.000000  2.772017e+06      0.395765      0.458420   \n",
      "max        3.000000  334128.000000  2.790801e+06     12.099402     13.842902   \n",
      "\n",
      "             附屬建物面積            單價  \n",
      "count  11751.000000  11751.000000  \n",
      "mean       0.023621      1.993343  \n",
      "std        1.177752      1.002079  \n",
      "min       -0.438452      0.177415  \n",
      "25%       -0.438452      1.301691  \n",
      "50%       -0.438452      1.770145  \n",
      "75%        0.146578      2.402558  \n",
      "max       33.713188     13.622033  \n",
      "Number of Samples Before removing outliers:\n",
      "Number of Samples After removing outliers:\n",
      "  郵遞區號      土地面積  使用分區  移轉層次  總樓層數  主要用途  主要建材  建物型態         屋齡      建物面積  \\\n",
      "0  106 -0.256716     5    11    11     2     4     0  32.583333 -0.174154   \n",
      "1  108  0.100134     5     7    12     2     4     0  24.166667  0.314204   \n",
      "2  830  0.181921     5    10    15    11     0     0   6.166667  0.423366   \n",
      "3  242  0.085594     5     9    14    11     4     0   8.833333  0.164249   \n",
      "4  220 -0.938116     5    41    43     2     5     0  11.000000  0.985839   \n",
      "\n",
      "       車位面積  車位個數     橫坐標      縱坐標     主建物面積      陽台面積    附屬建物面積        單價  \n",
      "0 -0.819326   0.0  305266  2768378  0.393926  0.183700 -0.438452  4.627714  \n",
      "1 -0.819326   0.0  300677  2767990 -0.316131  0.608577 -0.438452  1.887258  \n",
      "2  0.161624   1.0  184815  2504666 -0.098871 -0.360620  1.525881  1.489072  \n",
      "3  0.524653   1.0  296653  2772355 -0.071147  0.315088  0.231984  2.051217  \n",
      "4  0.532377   1.0  297377  2768472  0.791954  1.719400 -0.438452  3.269198  \n",
      "process_training_data exists.\n"
     ]
    }
   ],
   "source": [
    "# training data process\n",
    "print(count_unique_values_for_object_columns(training_data_df))\n",
    "training_data_df.insert(4, '郵遞區號', None)\n",
    "add_postcode_data(training_data_df, postcode_data_df)\n",
    "print(training_data_df.head(5)) \n",
    "labelencoder = LabelEncoder()\n",
    "training_data_df[\"使用分區\"] = labelencoder.fit_transform(training_data_df[\"使用分區\"])\n",
    "training_data_df[\"主要用途\"] = labelencoder.fit_transform(training_data_df[\"主要用途\"])\n",
    "training_data_df[\"主要建材\"] = labelencoder.fit_transform(training_data_df[\"主要建材\"])\n",
    "training_data_df[\"建物型態\"] = labelencoder.fit_transform(training_data_df[\"建物型態\"])\n",
    "training_data_df = training_data_df.drop(['ID'],axis=1)\n",
    "training_data_df = training_data_df.drop(['鄉鎮市區'], axis=1)\n",
    "training_data_df = training_data_df.drop(['路名'], axis=1)\n",
    "training_data_df = training_data_df.drop(['縣市'], axis=1)\n",
    "training_data_df = training_data_df.drop(['備註'], axis=1)\n",
    "print(training_data_df.describe())\n",
    "#print(\"================================\")\n",
    "#print(training_data_df.info())\n",
    "#print(\"================================\")\n",
    "#print(count_unique_values_for_object_columns(training_data_df))\n",
    "#print(\"================================\")\n",
    "#print(training_data_df.isnull().sum())\n",
    "print(\"Number of Samples Before removing outliers:\")\n",
    "training_data_df = training_data_df[(np.abs(stats.zscore(training_data_df['單價'])) < 4)]\n",
    "print(\"Number of Samples After removing outliers:\")\n",
    "print(training_data_df.head(5)) \n",
    "if os.path.exists(\"./data/process_training_data.csv\"):\n",
    "  print(\"process_training_data exists.\")\n",
    "else:\n",
    "  training_data_df.to_csv(\"./data/process_training_data.csv\")\n",
    "# change first column of new_training_data.csv to N"
   ]
  },
  {
   "cell_type": "code",
   "execution_count": 43,
   "metadata": {},
   "outputs": [
    {
     "name": "stdout",
     "output_type": "stream",
     "text": [
      "{'ID': 5876, '縣市': 17, '鄉鎮市區': 117, '路名': 2266, '使用分區': 5, '主要用途': 11, '主要建材': 6, '建物型態': 4, '備註': 48}\n"
     ]
    },
    {
     "name": "stderr",
     "output_type": "stream",
     "text": [
      "C:\\Users\\Pesudocode\\AppData\\Local\\Temp\\ipykernel_23264\\3932344480.py:7: FutureWarning: Calling int on a single element Series is deprecated and will raise a TypeError in the future. Use int(ser.iloc[0]) instead\n",
      "  postcode = int(matching_postcode_df[\"郵遞區號\"])\n"
     ]
    },
    {
     "name": "stdout",
     "output_type": "stream",
     "text": [
      "     ID   縣市 鄉鎮市區      路名 郵遞區號      土地面積 使用分區  移轉層次  總樓層數  主要用途  ...  \\\n",
      "0  PU-1  新北市  樹林區     大有路  238  2.039378  NaN     3     7   住家用  ...   \n",
      "1  PU-2  新北市  三重區   力行路一段  241 -0.077786  NaN     5     5   住家用  ...   \n",
      "2  PU-3  新北市  板橋區   民生路三段  220 -0.555766  NaN     2    20  集合住宅  ...   \n",
      "3  PU-4  新北市  泰山區   明志路二段  243 -0.744838  NaN     6    16   住家用  ...   \n",
      "4  PU-5  台北市  信義區  忠孝東路五段  110 -0.610923  NaN     3     7   住家用  ...   \n",
      "\n",
      "          屋齡      建物面積      車位面積  車位個數     橫坐標      縱坐標   備註     主建物面積  \\\n",
      "0  13.916667  0.472202  0.146176   1.0  288745  2760266  NaN  0.849664   \n",
      "1  40.833333 -0.546455 -0.819326   0.0  298751  2773492  NaN -0.004102   \n",
      "2   1.333333  0.124032 -0.167419   1.0  297000  2769106  NaN -0.285862   \n",
      "3  27.500000 -0.027072  0.115280   1.0  293076  2771160  NaN  0.027582   \n",
      "4  40.500000 -0.863600 -0.819326   0.0  308103  2770220  NaN -0.883328   \n",
      "\n",
      "       陽台面積    附屬建物面積  \n",
      "0  0.146161 -0.438452  \n",
      "1  0.064257 -0.438452  \n",
      "2 -0.775260  1.323042  \n",
      "3  0.316794 -0.139532  \n",
      "4 -0.560262 -0.075477  \n",
      "\n",
      "[5 rows x 22 columns]\n",
      "              土地面積         使用分區         移轉層次         總樓層數         主要用途  \\\n",
      "count  5876.000000  5876.000000  5876.000000  5876.000000  5876.000000   \n",
      "mean     -0.002864     4.795779     7.238257    12.245745     3.970218   \n",
      "std       0.932048     0.934168     4.839913     6.460580     3.335427   \n",
      "min      -1.699811     0.000000     2.000000     2.000000     0.000000   \n",
      "25%      -0.639499     5.000000     4.000000     7.000000     2.000000   \n",
      "50%      -0.157686     5.000000     6.000000    12.000000     2.000000   \n",
      "75%       0.423788     5.000000    10.000000    15.000000     5.000000   \n",
      "max       6.753225     5.000000    36.000000    42.000000    10.000000   \n",
      "\n",
      "              主要建材         建物型態           屋齡         建物面積         車位面積  \\\n",
      "count  5876.000000  5876.000000  5876.000000  5876.000000  5876.000000   \n",
      "mean      3.921545     0.585602    21.376546    -0.025328    -0.025202   \n",
      "std       0.633374     0.782787    14.369584     0.920109     0.968473   \n",
      "min       0.000000     0.000000     0.083333    -1.738621    -0.819326   \n",
      "25%       4.000000     0.000000     8.333333    -0.617697    -0.819326   \n",
      "50%       4.000000     0.000000    21.666667    -0.197423    -0.458614   \n",
      "75%       4.000000     1.000000    31.583333     0.314204     0.643603   \n",
      "max       5.000000     3.000000    61.166667     5.952147     5.211586   \n",
      "\n",
      "              車位個數            橫坐標           縱坐標        主建物面積         陽台面積  \\\n",
      "count  5876.000000    5876.000000  5.876000e+03  5876.000000  5876.000000   \n",
      "mean      0.613853  268493.521613  2.719979e+06    -0.015516    -0.022229   \n",
      "std       0.656857   50409.924074  9.214878e+04     0.929640     0.923339   \n",
      "min       0.000000  -23316.000000  2.496257e+06    -2.098629    -1.642077   \n",
      "25%       0.000000  242940.500000  2.731056e+06    -0.609843    -0.623396   \n",
      "50%       1.000000  294877.500000  2.766380e+06    -0.136920    -0.094432   \n",
      "75%       1.000000  302342.250000  2.772057e+06     0.366556     0.436237   \n",
      "max       3.000000  331752.000000  2.794446e+06     5.822610     4.893181   \n",
      "\n",
      "            附屬建物面積  \n",
      "count  5876.000000  \n",
      "mean     -0.036009  \n",
      "std       0.722190  \n",
      "min      -0.438452  \n",
      "25%      -0.438452  \n",
      "50%      -0.438452  \n",
      "75%       0.133767  \n",
      "max      11.693440  \n",
      "  郵遞區號      土地面積  使用分區  移轉層次  總樓層數  主要用途  主要建材  建物型態         屋齡      建物面積  \\\n",
      "0  238  2.039378     5     3     7     2     4     2  13.916667  0.472202   \n",
      "1  241 -0.077786     5     5     5     2     4     1  40.833333 -0.546455   \n",
      "2  220 -0.555766     5     2    20    10     4     0   1.333333  0.124032   \n",
      "3  243 -0.744838     5     6    16     2     4     0  27.500000 -0.027072   \n",
      "4  110 -0.610923     5     3     7     2     4     2  40.500000 -0.863600   \n",
      "\n",
      "       車位面積  車位個數     橫坐標      縱坐標     主建物面積      陽台面積    附屬建物面積  \n",
      "0  0.146176   1.0  288745  2760266  0.849664  0.146161 -0.438452  \n",
      "1 -0.819326   0.0  298751  2773492 -0.004102  0.064257 -0.438452  \n",
      "2 -0.167419   1.0  297000  2769106 -0.285862 -0.775260  1.323042  \n",
      "3  0.115280   1.0  293076  2771160  0.027582  0.316794 -0.139532  \n",
      "4 -0.819326   0.0  308103  2770220 -0.883328 -0.560262 -0.075477  \n",
      "process_public_dataset exists.\n"
     ]
    }
   ],
   "source": [
    "# public dataset process\n",
    "print(count_unique_values_for_object_columns(public_dataset_df))\n",
    "public_dataset_df.insert(4, '郵遞區號', None)\n",
    "add_postcode_data(public_dataset_df, postcode_data_df)\n",
    "print(public_dataset_df.head(5)) \n",
    "labelencoder = LabelEncoder()\n",
    "public_dataset_df[\"使用分區\"] = labelencoder.fit_transform(public_dataset_df[\"使用分區\"])\n",
    "public_dataset_df[\"主要用途\"] = labelencoder.fit_transform(public_dataset_df[\"主要用途\"])\n",
    "public_dataset_df[\"主要建材\"] = labelencoder.fit_transform(public_dataset_df[\"主要建材\"])\n",
    "public_dataset_df[\"建物型態\"] = labelencoder.fit_transform(public_dataset_df[\"建物型態\"])\n",
    "public_dataset_df = public_dataset_df.drop(['ID'],axis=1)\n",
    "public_dataset_df = public_dataset_df.drop(['鄉鎮市區'], axis=1)\n",
    "public_dataset_df = public_dataset_df.drop(['路名'], axis=1)\n",
    "public_dataset_df = public_dataset_df.drop(['縣市'], axis=1)\n",
    "public_dataset_df = public_dataset_df.drop(['備註'], axis=1)\n",
    "print(public_dataset_df.describe())\n",
    "print(public_dataset_df.head(5)) \n",
    "if os.path.exists(\"./data/process_public_dataset.csv\"):\n",
    "  print(\"process_public_dataset exists.\")\n",
    "else:\n",
    "  public_dataset_df.to_csv(\"./data/process_public_dataset.csv\")"
   ]
  },
  {
   "cell_type": "code",
   "execution_count": 44,
   "metadata": {},
   "outputs": [
    {
     "name": "stdout",
     "output_type": "stream",
     "text": [
      "{'ID': 5875, '縣市': 16, '鄉鎮市區': 111, '路名': 2248, '使用分區': 5, '主要用途': 11, '主要建材': 6, '建物型態': 4, '備註': 41}\n"
     ]
    },
    {
     "name": "stderr",
     "output_type": "stream",
     "text": [
      "C:\\Users\\Pesudocode\\AppData\\Local\\Temp\\ipykernel_23264\\3932344480.py:7: FutureWarning: Calling int on a single element Series is deprecated and will raise a TypeError in the future. Use int(ser.iloc[0]) instead\n",
      "  postcode = int(matching_postcode_df[\"郵遞區號\"])\n"
     ]
    },
    {
     "name": "stdout",
     "output_type": "stream",
     "text": [
      "     ID   縣市 鄉鎮市區   路名 郵遞區號      土地面積 使用分區  移轉層次  總樓層數 主要用途  ...         屋齡  \\\n",
      "0  PR-1  高雄市  前鎮區  鎮海路  806 -0.541033  NaN    12    14  住家用  ...  27.916667   \n",
      "1  PR-2  台北市  北投區  大同街  112  0.753799  NaN     4     7   其他  ...   0.750000   \n",
      "2  PR-3  台北市  大同區  大龍街  103  0.482869    住     6     7  住家用  ...  43.916667   \n",
      "3  PR-4  新北市  蘆洲區  民族路  247  0.390940  NaN     4     4  住家用  ...  45.416667   \n",
      "4  PR-5  新北市  新莊區  龍安路  242 -0.711599  NaN     3     8  住家用  ...  27.250000   \n",
      "\n",
      "       建物面積      車位面積  車位個數     橫坐標      縱坐標   備註     主建物面積      陽台面積  \\\n",
      "0  0.043596 -0.819326   0.0  179750  2499123  NaN  0.127159  0.035249   \n",
      "1 -0.200582  0.311470   1.0  300436  2781335  NaN -0.464083 -0.160979   \n",
      "2  0.211936 -0.819326   0.0  302091  2773374  NaN  0.832407  2.461656   \n",
      "3 -0.685493 -0.819326   0.0  298394  2775413  NaN  0.052476 -1.642077   \n",
      "4 -0.898072 -0.819326   0.0  292572  2767887  NaN -0.968196 -0.333319   \n",
      "\n",
      "     附屬建物面積  \n",
      "0 -0.438452  \n",
      "1 -0.438452  \n",
      "2 -0.438452  \n",
      "3 -0.438452  \n",
      "4 -0.022099  \n",
      "\n",
      "[5 rows x 22 columns]\n",
      "              土地面積         使用分區         移轉層次         總樓層數         主要用途  \\\n",
      "count  5875.000000  5875.000000  5875.000000  5875.000000  5875.000000   \n",
      "mean     -0.033971     4.783489     7.303319    12.486298     3.979745   \n",
      "std       0.911242     0.971031     4.953538     6.537361     3.358821   \n",
      "min      -1.608051     0.000000     2.000000     2.000000     0.000000   \n",
      "25%      -0.671884     5.000000     4.000000     7.000000     2.000000   \n",
      "50%      -0.170075     5.000000     6.000000    12.000000     2.000000   \n",
      "75%       0.386518     5.000000    10.000000    15.000000     5.000000   \n",
      "max       7.116156     5.000000    35.000000    41.000000    10.000000   \n",
      "\n",
      "              主要建材         建物型態           屋齡         建物面積         車位面積  \\\n",
      "count  5875.000000  5875.000000  5875.000000  5875.000000  5875.000000   \n",
      "mean      3.921362     0.569362    21.207390    -0.035707    -0.016858   \n",
      "std       0.629767     0.781825    14.483559     0.895382     0.967465   \n",
      "min       0.000000     0.000000     0.083333    -1.794352    -0.819326   \n",
      "25%       4.000000     0.000000     7.833333    -0.611665    -0.819326   \n",
      "50%       4.000000     0.000000    21.416667    -0.200582    -0.417677   \n",
      "75%       4.000000     1.000000    31.000000     0.321098     0.649782   \n",
      "max       5.000000     3.000000    62.500000     6.015347     5.140525   \n",
      "\n",
      "              車位個數            橫坐標           縱坐標        主建物面積         陽台面積  \\\n",
      "count  5875.000000    5875.000000  5.875000e+03  5875.000000  5875.000000   \n",
      "mean      0.623149  268466.746553  2.720122e+06    -0.037731    -0.027523   \n",
      "std       0.661152   49224.428598  9.097313e+04     0.900942     0.919311   \n",
      "min       0.000000  -23196.000000  2.495925e+06    -2.029038    -1.642077   \n",
      "25%       0.000000  222396.000000  2.704796e+06    -0.605105    -0.654110   \n",
      "50%       1.000000  294738.000000  2.766222e+06    -0.144699    -0.099551   \n",
      "75%       1.000000  302187.000000  2.771954e+06     0.371860     0.425999   \n",
      "max       3.000000  333305.000000  2.788119e+06     5.846939     4.896594   \n",
      "\n",
      "            附屬建物面積  \n",
      "count  5875.000000  \n",
      "mean     -0.011231  \n",
      "std       0.837952  \n",
      "min      -0.438452  \n",
      "25%      -0.438452  \n",
      "50%      -0.438452  \n",
      "75%       0.146578  \n",
      "max      13.309745  \n",
      "  郵遞區號      土地面積  使用分區  移轉層次  總樓層數  主要用途  主要建材  建物型態         屋齡      建物面積  \\\n",
      "0  806 -0.541033     5    12    14     2     4     0  27.916667  0.043596   \n",
      "1  112  0.753799     5     4     7     4     4     2   0.750000 -0.200582   \n",
      "2  103  0.482869     0     6     7     2     4     2  43.916667  0.211936   \n",
      "3  247  0.390940     5     4     4     2     1     1  45.416667 -0.685493   \n",
      "4  242 -0.711599     5     3     8     2     4     2  27.250000 -0.898072   \n",
      "\n",
      "       車位面積  車位個數     橫坐標      縱坐標     主建物面積      陽台面積    附屬建物面積  \n",
      "0 -0.819326   0.0  179750  2499123  0.127159  0.035249 -0.438452  \n",
      "1  0.311470   1.0  300436  2781335 -0.464083 -0.160979 -0.438452  \n",
      "2 -0.819326   0.0  302091  2773374  0.832407  2.461656 -0.438452  \n",
      "3 -0.819326   0.0  298394  2775413  0.052476 -1.642077 -0.438452  \n",
      "4 -0.819326   0.0  292572  2767887 -0.968196 -0.333319 -0.022099  \n",
      "process_private_dataset exists.\n"
     ]
    }
   ],
   "source": [
    "# private dataset process\n",
    "print(count_unique_values_for_object_columns(private_dataset_df))\n",
    "private_dataset_df.insert(4, '郵遞區號', None)\n",
    "add_postcode_data(private_dataset_df, postcode_data_df)\n",
    "print(private_dataset_df.head(5)) \n",
    "labelencoder = LabelEncoder()\n",
    "private_dataset_df[\"使用分區\"] = labelencoder.fit_transform(private_dataset_df[\"使用分區\"])\n",
    "private_dataset_df[\"主要用途\"] = labelencoder.fit_transform(private_dataset_df[\"主要用途\"])\n",
    "private_dataset_df[\"主要建材\"] = labelencoder.fit_transform(private_dataset_df[\"主要建材\"])\n",
    "private_dataset_df[\"建物型態\"] = labelencoder.fit_transform(private_dataset_df[\"建物型態\"])\n",
    "private_dataset_df = private_dataset_df.drop(['ID'],axis=1)\n",
    "private_dataset_df = private_dataset_df.drop(['鄉鎮市區'], axis=1)\n",
    "private_dataset_df = private_dataset_df.drop(['路名'], axis=1)\n",
    "private_dataset_df = private_dataset_df.drop(['縣市'], axis=1)\n",
    "private_dataset_df = private_dataset_df.drop(['備註'], axis=1)\n",
    "print(private_dataset_df.describe())\n",
    "print(private_dataset_df.head(5)) \n",
    "if os.path.exists(\"./data/process_private_dataset.csv\"):\n",
    "  print(\"process_private_dataset exists.\")\n",
    "else:\n",
    "  private_dataset_df.to_csv(\"./data/process_private_dataset.csv\")"
   ]
  },
  {
   "cell_type": "markdown",
   "metadata": {},
   "source": [
    "## PART 2. Model"
   ]
  },
  {
   "cell_type": "markdown",
   "metadata": {},
   "source": [
    "### Prepare the environment and import all library we need"
   ]
  },
  {
   "cell_type": "code",
   "execution_count": 45,
   "metadata": {},
   "outputs": [
    {
     "name": "stdout",
     "output_type": "stream",
     "text": [
      "PyTorch version 2.1.0\n",
      "GPU-enabled installation? True\n",
      "GPU-device name? NVIDIA GeForce RTX 4070 Ti\n",
      "GPU-device name? NVIDIA GeForce RTX 3090\n",
      "\n"
     ]
    }
   ],
   "source": [
    "import torch\n",
    "from scipy import stats\n",
    "from sklearn.model_selection import train_test_split\n",
    "import xgboost as xgb\n",
    "from sklearn.metrics import r2_score\n",
    "import os\n",
    "from datetime import datetime\n",
    "import pandas as pd\n",
    "import numpy as np\n",
    "import matplotlib.pyplot as plt\n",
    "import joblib # save model\n",
    "print(\n",
    "    # 確認 torch 的版本\n",
    "    f'PyTorch version {torch.__version__}\\n' +\n",
    "    # 確認是否有 GPU 裝置\n",
    "    f'GPU-enabled installation? {torch.cuda.is_available()}\\n'\n",
    "    # 確認GPU 0裝置名字\n",
    "    f'GPU-device name? {torch.cuda.get_device_name(0)}\\n'\n",
    "    # 確認GPU 1裝置名字\n",
    "    f'GPU-device name? {torch.cuda.get_device_name(1)}\\n'\n",
    ")\n",
    "os.environ[\"CUDA_VISIBLE_DEVICES\"] = \"1,0\" # 更改預設gpu為1\n",
    "pd.options.mode.chained_assignment = None # 關閉copywarning"
   ]
  },
  {
   "cell_type": "markdown",
   "metadata": {},
   "source": [
    "### data loading"
   ]
  },
  {
   "cell_type": "code",
   "execution_count": 46,
   "metadata": {},
   "outputs": [],
   "source": [
    "public_dataset_df = pd.read_csv('data/process_public_dataset.csv',encoding='utf-8-sig')\n",
    "private_dataset_df = pd.read_csv('data/process_private_dataset.csv',encoding='utf-8-sig')\n",
    "public_submission_template_df = pd.read_csv('data/submission/public_submission_template.csv',encoding='utf-8-sig')\n",
    "training_data_df = pd.read_csv('data/process_training_data.csv',encoding='utf-8-sig')"
   ]
  },
  {
   "cell_type": "markdown",
   "metadata": {},
   "source": [
    "### Gradient Boosting Model"
   ]
  },
  {
   "cell_type": "code",
   "execution_count": 47,
   "metadata": {},
   "outputs": [],
   "source": [
    "# function area\n",
    "def mean_absolute_percentage_error(y_true, y_pred): \n",
    "    y_true, y_pred = np.array(y_true), np.array(y_pred)\n",
    "    return np.mean(np.abs((y_true - y_pred) / y_true)) * 100\n",
    "    \n",
    "def rmse(y, y_pred):\n",
    "    return np.exp(np.sqrt(np.mean((y - y_pred) ** 2)))"
   ]
  },
  {
   "cell_type": "code",
   "execution_count": 48,
   "metadata": {},
   "outputs": [
    {
     "name": "stderr",
     "output_type": "stream",
     "text": [
      "c:\\Users\\Pesudocode\\anaconda3\\envs\\AI-GO\\lib\\site-packages\\xgboost\\data.py:335: FutureWarning: is_sparse is deprecated and will be removed in a future version. Check `isinstance(dtype, pd.SparseDtype)` instead.\n",
      "  if is_sparse(dtype):\n",
      "c:\\Users\\Pesudocode\\anaconda3\\envs\\AI-GO\\lib\\site-packages\\xgboost\\data.py:338: FutureWarning: is_categorical_dtype is deprecated and will be removed in a future version. Use isinstance(dtype, CategoricalDtype) instead\n",
      "  is_categorical_dtype(dtype) or is_pa_ext_categorical_dtype(dtype)\n",
      "c:\\Users\\Pesudocode\\anaconda3\\envs\\AI-GO\\lib\\site-packages\\xgboost\\data.py:384: FutureWarning: is_categorical_dtype is deprecated and will be removed in a future version. Use isinstance(dtype, CategoricalDtype) instead\n",
      "  if is_categorical_dtype(dtype):\n",
      "c:\\Users\\Pesudocode\\anaconda3\\envs\\AI-GO\\lib\\site-packages\\xgboost\\data.py:359: FutureWarning: is_categorical_dtype is deprecated and will be removed in a future version. Use isinstance(dtype, CategoricalDtype) instead\n",
      "  return is_int or is_bool or is_float or is_categorical_dtype(dtype)\n",
      "c:\\Users\\Pesudocode\\anaconda3\\envs\\AI-GO\\lib\\site-packages\\xgboost\\data.py:520: FutureWarning: is_sparse is deprecated and will be removed in a future version. Check `isinstance(dtype, pd.SparseDtype)` instead.\n",
      "  if is_sparse(data):\n"
     ]
    }
   ],
   "source": [
    "X = training_data_df.drop('單價', axis=1)\n",
    "y = training_data_df['單價']\n",
    "X_train, X_test, y_train, y_test = train_test_split(X, y, test_size=0.2, random_state=42)\n",
    "model = xgb.XGBRegressor(n_estimators = 100, max_depth=8, learning_rate=0.1, subsample=0.5)\n",
    "xgb_model = model.fit(X_train, y_train)"
   ]
  },
  {
   "cell_type": "code",
   "execution_count": 49,
   "metadata": {},
   "outputs": [
    {
     "name": "stderr",
     "output_type": "stream",
     "text": [
      "c:\\Users\\Pesudocode\\anaconda3\\envs\\AI-GO\\lib\\site-packages\\xgboost\\data.py:335: FutureWarning: is_sparse is deprecated and will be removed in a future version. Check `isinstance(dtype, pd.SparseDtype)` instead.\n",
      "  if is_sparse(dtype):\n",
      "c:\\Users\\Pesudocode\\anaconda3\\envs\\AI-GO\\lib\\site-packages\\xgboost\\data.py:338: FutureWarning: is_categorical_dtype is deprecated and will be removed in a future version. Use isinstance(dtype, CategoricalDtype) instead\n",
      "  is_categorical_dtype(dtype) or is_pa_ext_categorical_dtype(dtype)\n",
      "c:\\Users\\Pesudocode\\anaconda3\\envs\\AI-GO\\lib\\site-packages\\xgboost\\data.py:384: FutureWarning: is_categorical_dtype is deprecated and will be removed in a future version. Use isinstance(dtype, CategoricalDtype) instead\n",
      "  if is_categorical_dtype(dtype):\n",
      "c:\\Users\\Pesudocode\\anaconda3\\envs\\AI-GO\\lib\\site-packages\\xgboost\\data.py:359: FutureWarning: is_categorical_dtype is deprecated and will be removed in a future version. Use isinstance(dtype, CategoricalDtype) instead\n",
      "  return is_int or is_bool or is_float or is_categorical_dtype(dtype)\n"
     ]
    }
   ],
   "source": [
    "xgb_pred = xgb_model.predict(X_test)"
   ]
  },
  {
   "cell_type": "code",
   "execution_count": 50,
   "metadata": {},
   "outputs": [
    {
     "name": "stdout",
     "output_type": "stream",
     "text": [
      "rmse: 1.288518561011111\n",
      "mape: 10.21095276229826\n",
      "R2 Score: 0.9167382914809563\n"
     ]
    },
    {
     "data": {
      "image/png": "[encoded data removed]",
      "text/plain": [
       "<Figure size 800x500 with 1 Axes>"
      ]
     },
     "metadata": {},
     "output_type": "display_data"
    }
   ],
   "source": [
    "xgb_rmse = rmse(y_test, xgb_pred)\n",
    "xgb_mape = mean_absolute_percentage_error(y_test, xgb_pred)\n",
    "xgb_r2 = r2_score(y_test, xgb_pred)\n",
    "print(\"rmse:\", xgb_rmse)\n",
    "print(\"mape:\", xgb_mape)\n",
    "print(\"R2 Score:\", xgb_r2)\n",
    "plt.figure(figsize=(8,5))\n",
    "plt.scatter(y_test,xgb_pred)\n",
    "plt.xlabel(\"target value\") #x label\n",
    "plt.ylabel(\"predictvalue\") #y label\n",
    "plt.show()"
   ]
  },
  {
   "cell_type": "code",
   "execution_count": 51,
   "metadata": {},
   "outputs": [
    {
     "name": "stderr",
     "output_type": "stream",
     "text": [
      "c:\\Users\\Pesudocode\\anaconda3\\envs\\AI-GO\\lib\\site-packages\\xgboost\\data.py:335: FutureWarning: is_sparse is deprecated and will be removed in a future version. Check `isinstance(dtype, pd.SparseDtype)` instead.\n",
      "  if is_sparse(dtype):\n",
      "c:\\Users\\Pesudocode\\anaconda3\\envs\\AI-GO\\lib\\site-packages\\xgboost\\data.py:338: FutureWarning: is_categorical_dtype is deprecated and will be removed in a future version. Use isinstance(dtype, CategoricalDtype) instead\n",
      "  is_categorical_dtype(dtype) or is_pa_ext_categorical_dtype(dtype)\n",
      "c:\\Users\\Pesudocode\\anaconda3\\envs\\AI-GO\\lib\\site-packages\\xgboost\\data.py:384: FutureWarning: is_categorical_dtype is deprecated and will be removed in a future version. Use isinstance(dtype, CategoricalDtype) instead\n",
      "  if is_categorical_dtype(dtype):\n",
      "c:\\Users\\Pesudocode\\anaconda3\\envs\\AI-GO\\lib\\site-packages\\xgboost\\data.py:359: FutureWarning: is_categorical_dtype is deprecated and will be removed in a future version. Use isinstance(dtype, CategoricalDtype) instead\n",
      "  return is_int or is_bool or is_float or is_categorical_dtype(dtype)\n"
     ]
    }
   ],
   "source": [
    "# save model and test public data\n",
    "current_date = datetime.today().strftime('%m-%d')\n",
    "model_name = 'xgb_model_mape' + str(int(xgb_mape)) + '_date' + str(current_date)\n",
    "filename = './data/model/' + model_name\n",
    "joblib.dump(model, filename)\n",
    "loaded_model = joblib.load(filename)\n",
    "public_dataset_pred = loaded_model.predict(public_dataset_df)\n",
    "original_public_dataset_df = pd.read_csv('data/public_dataset.csv',encoding='utf-8-sig')\n",
    "publict_submission_df = pd.DataFrame({'ID': original_public_dataset_df['ID'], '單價': public_dataset_pred})\n",
    "submissionname = './data/submission/publict_submission_' + model_name + '.csv'\n",
    "publict_submission_df.to_csv(submissionname, index=False)"
   ]
  },
  {
   "cell_type": "code",
   "execution_count": 52,
   "metadata": {},
   "outputs": [
    {
     "name": "stderr",
     "output_type": "stream",
     "text": [
      "c:\\Users\\Pesudocode\\anaconda3\\envs\\AI-GO\\lib\\site-packages\\xgboost\\data.py:335: FutureWarning: is_sparse is deprecated and will be removed in a future version. Check `isinstance(dtype, pd.SparseDtype)` instead.\n",
      "  if is_sparse(dtype):\n",
      "c:\\Users\\Pesudocode\\anaconda3\\envs\\AI-GO\\lib\\site-packages\\xgboost\\data.py:338: FutureWarning: is_categorical_dtype is deprecated and will be removed in a future version. Use isinstance(dtype, CategoricalDtype) instead\n",
      "  is_categorical_dtype(dtype) or is_pa_ext_categorical_dtype(dtype)\n",
      "c:\\Users\\Pesudocode\\anaconda3\\envs\\AI-GO\\lib\\site-packages\\xgboost\\data.py:384: FutureWarning: is_categorical_dtype is deprecated and will be removed in a future version. Use isinstance(dtype, CategoricalDtype) instead\n",
      "  if is_categorical_dtype(dtype):\n",
      "c:\\Users\\Pesudocode\\anaconda3\\envs\\AI-GO\\lib\\site-packages\\xgboost\\data.py:359: FutureWarning: is_categorical_dtype is deprecated and will be removed in a future version. Use isinstance(dtype, CategoricalDtype) instead\n",
      "  return is_int or is_bool or is_float or is_categorical_dtype(dtype)\n"
     ]
    }
   ],
   "source": [
    "# test private data and generate private submission\n",
    "private_dataset_pred = loaded_model.predict(private_dataset_df)\n",
    "original_private_dataset_df = pd.read_csv('data/private_dataset.csv',encoding='utf-8-sig')\n",
    "private_submission_df = pd.DataFrame({'ID': original_private_dataset_df['ID'], '單價': private_dataset_pred})\n",
    "submissionname = './data/submission/private_submission_' + model_name + '.csv'\n",
    "private_submission_df.to_csv(submissionname, index=False)"
   ]
  },
  {
   "cell_type": "code",
   "execution_count": 53,
   "metadata": {},
   "outputs": [],
   "source": [
    "#model_name = 'xgb_model_mape10_date11-10'\n",
    "#filename = './data/model/' + model_name\n",
    "#joblib.dump(model, filename)\n",
    "#loaded_model = joblib.load(filename)\n",
    "#training_data_pred = loaded_model.predict(training_data_df)\n",
    "#original_training_data_df = pd.read_csv('data/training_data.csv',encoding='utf-8-sig')\n",
    "#new_training_data_df = pd.DataFrame({'ID': original_training_data_df['ID'], '預測單價': training_data_pred})\n",
    "#submission_name = './data/new_training_data_df.csv'\n",
    "#new_training_data_df.to_csv(submissionname, index=False)"
   ]
  }
 ],
 "metadata": {
  "kernelspec": {
   "display_name": "AI-GO",
   "language": "python",
   "name": "python3"
  },
  "language_info": {
   "codemirror_mode": {
    "name": "ipython",
    "version": 3
   },
   "file_extension": ".py",
   "mimetype": "text/x-python",
   "name": "python",
   "nbconvert_exporter": "python",
   "pygments_lexer": "ipython3",
   "version": "3.9.18"
  },
  "orig_nbformat": 4
 },
 "nbformat": 4,
 "nbformat_minor": 2
}
